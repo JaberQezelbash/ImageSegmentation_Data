{
 "cells": [
  {
   "cell_type": "markdown",
   "id": "0c60eb65-31bd-4532-a62c-c149520f8c76",
   "metadata": {},
   "source": [
    "## UNet-Route"
   ]
  },
  {
   "cell_type": "code",
   "execution_count": null,
   "id": "c5c65657-758f-431c-8a4d-1e903bd8cadc",
   "metadata": {},
   "outputs": [],
   "source": []
  }
 ],
 "metadata": {
  "kernelspec": {
   "display_name": "Python 3 (ipykernel)",
   "language": "python",
   "name": "python3"
  },
  "language_info": {
   "codemirror_mode": {
    "name": "ipython",
    "version": 3
   },
   "file_extension": ".py",
   "mimetype": "text/x-python",
   "name": "python",
   "nbconvert_exporter": "python",
   "pygments_lexer": "ipython3",
   "version": "3.8.19"
  }
 },
 "nbformat": 4,
 "nbformat_minor": 5
}
